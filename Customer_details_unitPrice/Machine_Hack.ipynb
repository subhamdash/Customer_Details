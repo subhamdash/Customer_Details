{
  "nbformat": 4,
  "nbformat_minor": 0,
  "metadata": {
    "colab": {
      "name": "Copy of Copy of Machine_Hack.ipynb",
      "provenance": []
    },
    "kernelspec": {
      "name": "python3",
      "display_name": "Python 3"
    },
    "accelerator": "GPU"
  },
  "cells": [
    {
      "cell_type": "code",
      "metadata": {
        "id": "rBXMrxw-E5dp",
        "outputId": "0d031de0-f271-4f88-ee88-80dad52b7fbf",
        "colab": {
          "base_uri": "https://localhost:8080/"
        }
      },
      "source": [
        "!pip install lime"
      ],
      "execution_count": 28,
      "outputs": [
        {
          "output_type": "stream",
          "text": [
            "Requirement already satisfied: lime in /usr/local/lib/python3.6/dist-packages (0.2.0.1)\n",
            "Requirement already satisfied: scikit-learn>=0.18 in /usr/local/lib/python3.6/dist-packages (from lime) (0.22.2.post1)\n",
            "Requirement already satisfied: numpy in /usr/local/lib/python3.6/dist-packages (from lime) (1.18.5)\n",
            "Requirement already satisfied: scikit-image>=0.12 in /usr/local/lib/python3.6/dist-packages (from lime) (0.16.2)\n",
            "Requirement already satisfied: scipy in /usr/local/lib/python3.6/dist-packages (from lime) (1.4.1)\n",
            "Requirement already satisfied: matplotlib in /usr/local/lib/python3.6/dist-packages (from lime) (3.2.2)\n",
            "Requirement already satisfied: tqdm in /usr/local/lib/python3.6/dist-packages (from lime) (4.41.1)\n",
            "Requirement already satisfied: joblib>=0.11 in /usr/local/lib/python3.6/dist-packages (from scikit-learn>=0.18->lime) (0.17.0)\n",
            "Requirement already satisfied: PyWavelets>=0.4.0 in /usr/local/lib/python3.6/dist-packages (from scikit-image>=0.12->lime) (1.1.1)\n",
            "Requirement already satisfied: pillow>=4.3.0 in /usr/local/lib/python3.6/dist-packages (from scikit-image>=0.12->lime) (7.0.0)\n",
            "Requirement already satisfied: imageio>=2.3.0 in /usr/local/lib/python3.6/dist-packages (from scikit-image>=0.12->lime) (2.4.1)\n",
            "Requirement already satisfied: networkx>=2.0 in /usr/local/lib/python3.6/dist-packages (from scikit-image>=0.12->lime) (2.5)\n",
            "Requirement already satisfied: cycler>=0.10 in /usr/local/lib/python3.6/dist-packages (from matplotlib->lime) (0.10.0)\n",
            "Requirement already satisfied: python-dateutil>=2.1 in /usr/local/lib/python3.6/dist-packages (from matplotlib->lime) (2.8.1)\n",
            "Requirement already satisfied: kiwisolver>=1.0.1 in /usr/local/lib/python3.6/dist-packages (from matplotlib->lime) (1.3.1)\n",
            "Requirement already satisfied: pyparsing!=2.0.4,!=2.1.2,!=2.1.6,>=2.0.1 in /usr/local/lib/python3.6/dist-packages (from matplotlib->lime) (2.4.7)\n",
            "Requirement already satisfied: decorator>=4.3.0 in /usr/local/lib/python3.6/dist-packages (from networkx>=2.0->scikit-image>=0.12->lime) (4.4.2)\n",
            "Requirement already satisfied: six in /usr/local/lib/python3.6/dist-packages (from cycler>=0.10->matplotlib->lime) (1.15.0)\n"
          ],
          "name": "stdout"
        }
      ]
    },
    {
      "cell_type": "code",
      "metadata": {
        "id": "TOQMeDX6JFGW"
      },
      "source": [
        "#Basic Dependencies\n",
        "import numpy as np \n",
        "import pandas as pd\n",
        "import matplotlib.pyplot as plt\n",
        "import seaborn as sns\n",
        "%matplotlib inline\n",
        "\n",
        "\n",
        "## for data\n",
        "import pandas as pd\n",
        "import numpy as np\n",
        "## for plotting\n",
        "import matplotlib.pyplot as plt\n",
        "import seaborn as sns\n",
        "## for statistical tests\n",
        "import scipy\n",
        "import statsmodels.formula.api as smf\n",
        "import statsmodels.api as sm\n",
        "## for machine learning\n",
        "from sklearn import model_selection, preprocessing, feature_selection, ensemble, linear_model, metrics, decomposition\n",
        "## for explainer\n",
        "from lime import lime_tabular"
      ],
      "execution_count": 29,
      "outputs": []
    },
    {
      "cell_type": "code",
      "metadata": {
        "id": "jtyRNA9nLSk9",
        "outputId": "6b7fa8ca-cbca-43d9-c181-965a2b07b152",
        "colab": {
          "base_uri": "https://localhost:8080/",
          "height": 204
        }
      },
      "source": [
        "#Read training Data\n",
        "df_train = pd.read_csv(\"/content/drive/My Drive/Machine_Hack/Data/Train.csv\")\n",
        "df_train.head()"
      ],
      "execution_count": 30,
      "outputs": [
        {
          "output_type": "execute_result",
          "data": {
            "text/html": [
              "<div>\n",
              "<style scoped>\n",
              "    .dataframe tbody tr th:only-of-type {\n",
              "        vertical-align: middle;\n",
              "    }\n",
              "\n",
              "    .dataframe tbody tr th {\n",
              "        vertical-align: top;\n",
              "    }\n",
              "\n",
              "    .dataframe thead th {\n",
              "        text-align: right;\n",
              "    }\n",
              "</style>\n",
              "<table border=\"1\" class=\"dataframe\">\n",
              "  <thead>\n",
              "    <tr style=\"text-align: right;\">\n",
              "      <th></th>\n",
              "      <th>InvoiceNo</th>\n",
              "      <th>StockCode</th>\n",
              "      <th>Description</th>\n",
              "      <th>Quantity</th>\n",
              "      <th>InvoiceDate</th>\n",
              "      <th>UnitPrice</th>\n",
              "      <th>CustomerID</th>\n",
              "      <th>Country</th>\n",
              "    </tr>\n",
              "  </thead>\n",
              "  <tbody>\n",
              "    <tr>\n",
              "      <th>0</th>\n",
              "      <td>6141</td>\n",
              "      <td>1583</td>\n",
              "      <td>144</td>\n",
              "      <td>3</td>\n",
              "      <td>2011-05-06 16:54:00</td>\n",
              "      <td>3.75</td>\n",
              "      <td>14056.0</td>\n",
              "      <td>35</td>\n",
              "    </tr>\n",
              "    <tr>\n",
              "      <th>1</th>\n",
              "      <td>6349</td>\n",
              "      <td>1300</td>\n",
              "      <td>3682</td>\n",
              "      <td>6</td>\n",
              "      <td>2011-05-11 07:35:00</td>\n",
              "      <td>1.95</td>\n",
              "      <td>13098.0</td>\n",
              "      <td>35</td>\n",
              "    </tr>\n",
              "    <tr>\n",
              "      <th>2</th>\n",
              "      <td>16783</td>\n",
              "      <td>2178</td>\n",
              "      <td>1939</td>\n",
              "      <td>4</td>\n",
              "      <td>2011-11-20 13:20:00</td>\n",
              "      <td>5.95</td>\n",
              "      <td>15044.0</td>\n",
              "      <td>35</td>\n",
              "    </tr>\n",
              "    <tr>\n",
              "      <th>3</th>\n",
              "      <td>16971</td>\n",
              "      <td>2115</td>\n",
              "      <td>2983</td>\n",
              "      <td>1</td>\n",
              "      <td>2011-11-22 12:07:00</td>\n",
              "      <td>0.83</td>\n",
              "      <td>15525.0</td>\n",
              "      <td>35</td>\n",
              "    </tr>\n",
              "    <tr>\n",
              "      <th>4</th>\n",
              "      <td>6080</td>\n",
              "      <td>1210</td>\n",
              "      <td>2886</td>\n",
              "      <td>12</td>\n",
              "      <td>2011-05-06 09:00:00</td>\n",
              "      <td>1.65</td>\n",
              "      <td>13952.0</td>\n",
              "      <td>35</td>\n",
              "    </tr>\n",
              "  </tbody>\n",
              "</table>\n",
              "</div>"
            ],
            "text/plain": [
              "   InvoiceNo  StockCode  Description  ...  UnitPrice CustomerID  Country\n",
              "0       6141       1583          144  ...       3.75    14056.0       35\n",
              "1       6349       1300         3682  ...       1.95    13098.0       35\n",
              "2      16783       2178         1939  ...       5.95    15044.0       35\n",
              "3      16971       2115         2983  ...       0.83    15525.0       35\n",
              "4       6080       1210         2886  ...       1.65    13952.0       35\n",
              "\n",
              "[5 rows x 8 columns]"
            ]
          },
          "metadata": {
            "tags": []
          },
          "execution_count": 30
        }
      ]
    },
    {
      "cell_type": "code",
      "metadata": {
        "id": "GjbXP26hLbNd",
        "outputId": "54999a0e-5a0e-4fd5-9d25-5d7ca0920313",
        "colab": {
          "base_uri": "https://localhost:8080/",
          "height": 204
        }
      },
      "source": [
        "#Read testing data\n",
        "df_test = pd.read_csv(\"/content/drive/My Drive/Machine_Hack/Data/Test.csv\")\n",
        "df_test.head()"
      ],
      "execution_count": 31,
      "outputs": [
        {
          "output_type": "execute_result",
          "data": {
            "text/html": [
              "<div>\n",
              "<style scoped>\n",
              "    .dataframe tbody tr th:only-of-type {\n",
              "        vertical-align: middle;\n",
              "    }\n",
              "\n",
              "    .dataframe tbody tr th {\n",
              "        vertical-align: top;\n",
              "    }\n",
              "\n",
              "    .dataframe thead th {\n",
              "        text-align: right;\n",
              "    }\n",
              "</style>\n",
              "<table border=\"1\" class=\"dataframe\">\n",
              "  <thead>\n",
              "    <tr style=\"text-align: right;\">\n",
              "      <th></th>\n",
              "      <th>InvoiceNo</th>\n",
              "      <th>StockCode</th>\n",
              "      <th>Description</th>\n",
              "      <th>Quantity</th>\n",
              "      <th>InvoiceDate</th>\n",
              "      <th>CustomerID</th>\n",
              "      <th>Country</th>\n",
              "    </tr>\n",
              "  </thead>\n",
              "  <tbody>\n",
              "    <tr>\n",
              "      <th>0</th>\n",
              "      <td>3139</td>\n",
              "      <td>1709</td>\n",
              "      <td>1079</td>\n",
              "      <td>3</td>\n",
              "      <td>2011-02-22 15:22:00</td>\n",
              "      <td>16161.0</td>\n",
              "      <td>35</td>\n",
              "    </tr>\n",
              "    <tr>\n",
              "      <th>1</th>\n",
              "      <td>617</td>\n",
              "      <td>510</td>\n",
              "      <td>3457</td>\n",
              "      <td>1</td>\n",
              "      <td>2010-12-08 12:46:00</td>\n",
              "      <td>17341.0</td>\n",
              "      <td>35</td>\n",
              "    </tr>\n",
              "    <tr>\n",
              "      <th>2</th>\n",
              "      <td>14653</td>\n",
              "      <td>604</td>\n",
              "      <td>694</td>\n",
              "      <td>36</td>\n",
              "      <td>2011-10-25 13:53:00</td>\n",
              "      <td>15158.0</td>\n",
              "      <td>35</td>\n",
              "    </tr>\n",
              "    <tr>\n",
              "      <th>3</th>\n",
              "      <td>8634</td>\n",
              "      <td>1478</td>\n",
              "      <td>3473</td>\n",
              "      <td>2</td>\n",
              "      <td>2011-06-27 12:38:00</td>\n",
              "      <td>16033.0</td>\n",
              "      <td>35</td>\n",
              "    </tr>\n",
              "    <tr>\n",
              "      <th>4</th>\n",
              "      <td>15546</td>\n",
              "      <td>3216</td>\n",
              "      <td>871</td>\n",
              "      <td>1</td>\n",
              "      <td>2011-11-06 16:14:00</td>\n",
              "      <td>15351.0</td>\n",
              "      <td>35</td>\n",
              "    </tr>\n",
              "  </tbody>\n",
              "</table>\n",
              "</div>"
            ],
            "text/plain": [
              "   InvoiceNo  StockCode  Description  ...          InvoiceDate CustomerID  Country\n",
              "0       3139       1709         1079  ...  2011-02-22 15:22:00    16161.0       35\n",
              "1        617        510         3457  ...  2010-12-08 12:46:00    17341.0       35\n",
              "2      14653        604          694  ...  2011-10-25 13:53:00    15158.0       35\n",
              "3       8634       1478         3473  ...  2011-06-27 12:38:00    16033.0       35\n",
              "4      15546       3216          871  ...  2011-11-06 16:14:00    15351.0       35\n",
              "\n",
              "[5 rows x 7 columns]"
            ]
          },
          "metadata": {
            "tags": []
          },
          "execution_count": 31
        }
      ]
    },
    {
      "cell_type": "code",
      "metadata": {
        "id": "f-Z3K-1TLo1p",
        "outputId": "17f90c39-edc5-4520-e2b3-775505adbcdb",
        "colab": {
          "base_uri": "https://localhost:8080/"
        }
      },
      "source": [
        "#Column Types\n",
        "df_train.info()"
      ],
      "execution_count": 32,
      "outputs": [
        {
          "output_type": "stream",
          "text": [
            "<class 'pandas.core.frame.DataFrame'>\n",
            "RangeIndex: 284780 entries, 0 to 284779\n",
            "Data columns (total 8 columns):\n",
            " #   Column       Non-Null Count   Dtype  \n",
            "---  ------       --------------   -----  \n",
            " 0   InvoiceNo    284780 non-null  int64  \n",
            " 1   StockCode    284780 non-null  int64  \n",
            " 2   Description  284780 non-null  int64  \n",
            " 3   Quantity     284780 non-null  int64  \n",
            " 4   InvoiceDate  284780 non-null  object \n",
            " 5   UnitPrice    284780 non-null  float64\n",
            " 6   CustomerID   284780 non-null  float64\n",
            " 7   Country      284780 non-null  int64  \n",
            "dtypes: float64(2), int64(5), object(1)\n",
            "memory usage: 17.4+ MB\n"
          ],
          "name": "stdout"
        }
      ]
    },
    {
      "cell_type": "code",
      "metadata": {
        "id": "wL3GwEkLjP4v",
        "outputId": "ced77998-4717-4ef1-d233-f8269b392466",
        "colab": {
          "base_uri": "https://localhost:8080/"
        }
      },
      "source": [
        "df_test.info()"
      ],
      "execution_count": 33,
      "outputs": [
        {
          "output_type": "stream",
          "text": [
            "<class 'pandas.core.frame.DataFrame'>\n",
            "RangeIndex: 122049 entries, 0 to 122048\n",
            "Data columns (total 7 columns):\n",
            " #   Column       Non-Null Count   Dtype  \n",
            "---  ------       --------------   -----  \n",
            " 0   InvoiceNo    122049 non-null  int64  \n",
            " 1   StockCode    122049 non-null  int64  \n",
            " 2   Description  122049 non-null  int64  \n",
            " 3   Quantity     122049 non-null  int64  \n",
            " 4   InvoiceDate  122049 non-null  object \n",
            " 5   CustomerID   122049 non-null  float64\n",
            " 6   Country      122049 non-null  int64  \n",
            "dtypes: float64(1), int64(5), object(1)\n",
            "memory usage: 6.5+ MB\n"
          ],
          "name": "stdout"
        }
      ]
    },
    {
      "cell_type": "code",
      "metadata": {
        "id": "eprswdXRqdEk"
      },
      "source": [
        "df_train.drop(['InvoiceNo','InvoiceDate'], inplace=True , axis=1)\n",
        "df_test.drop(['InvoiceNo','InvoiceDate'], inplace=True , axis=1)"
      ],
      "execution_count": 34,
      "outputs": []
    },
    {
      "cell_type": "code",
      "metadata": {
        "id": "xwhO8QMYLwUh",
        "outputId": "4f65c2f7-4274-4ced-d6ed-93492fed84f4",
        "colab": {
          "base_uri": "https://localhost:8080/",
          "height": 235
        }
      },
      "source": [
        "#Basic Stats\n",
        "df_train.describe().T"
      ],
      "execution_count": 35,
      "outputs": [
        {
          "output_type": "execute_result",
          "data": {
            "text/html": [
              "<div>\n",
              "<style scoped>\n",
              "    .dataframe tbody tr th:only-of-type {\n",
              "        vertical-align: middle;\n",
              "    }\n",
              "\n",
              "    .dataframe tbody tr th {\n",
              "        vertical-align: top;\n",
              "    }\n",
              "\n",
              "    .dataframe thead th {\n",
              "        text-align: right;\n",
              "    }\n",
              "</style>\n",
              "<table border=\"1\" class=\"dataframe\">\n",
              "  <thead>\n",
              "    <tr style=\"text-align: right;\">\n",
              "      <th></th>\n",
              "      <th>count</th>\n",
              "      <th>mean</th>\n",
              "      <th>std</th>\n",
              "      <th>min</th>\n",
              "      <th>25%</th>\n",
              "      <th>50%</th>\n",
              "      <th>75%</th>\n",
              "      <th>max</th>\n",
              "    </tr>\n",
              "  </thead>\n",
              "  <tbody>\n",
              "    <tr>\n",
              "      <th>StockCode</th>\n",
              "      <td>284780.0</td>\n",
              "      <td>1573.386807</td>\n",
              "      <td>843.604991</td>\n",
              "      <td>0.0</td>\n",
              "      <td>939.00</td>\n",
              "      <td>1521.00</td>\n",
              "      <td>2106.00</td>\n",
              "      <td>3683.0</td>\n",
              "    </tr>\n",
              "    <tr>\n",
              "      <th>Description</th>\n",
              "      <td>284780.0</td>\n",
              "      <td>2023.955573</td>\n",
              "      <td>1089.812078</td>\n",
              "      <td>0.0</td>\n",
              "      <td>1141.00</td>\n",
              "      <td>1987.00</td>\n",
              "      <td>2945.00</td>\n",
              "      <td>3895.0</td>\n",
              "    </tr>\n",
              "    <tr>\n",
              "      <th>Quantity</th>\n",
              "      <td>284780.0</td>\n",
              "      <td>12.028468</td>\n",
              "      <td>295.111588</td>\n",
              "      <td>-80995.0</td>\n",
              "      <td>2.00</td>\n",
              "      <td>5.00</td>\n",
              "      <td>12.00</td>\n",
              "      <td>80995.0</td>\n",
              "    </tr>\n",
              "    <tr>\n",
              "      <th>UnitPrice</th>\n",
              "      <td>284780.0</td>\n",
              "      <td>3.451216</td>\n",
              "      <td>78.399541</td>\n",
              "      <td>0.0</td>\n",
              "      <td>1.25</td>\n",
              "      <td>1.95</td>\n",
              "      <td>3.75</td>\n",
              "      <td>38970.0</td>\n",
              "    </tr>\n",
              "    <tr>\n",
              "      <th>CustomerID</th>\n",
              "      <td>284780.0</td>\n",
              "      <td>15288.224278</td>\n",
              "      <td>1714.336529</td>\n",
              "      <td>12346.0</td>\n",
              "      <td>13953.00</td>\n",
              "      <td>15152.00</td>\n",
              "      <td>16794.00</td>\n",
              "      <td>18287.0</td>\n",
              "    </tr>\n",
              "    <tr>\n",
              "      <th>Country</th>\n",
              "      <td>284780.0</td>\n",
              "      <td>32.823846</td>\n",
              "      <td>6.743602</td>\n",
              "      <td>0.0</td>\n",
              "      <td>35.00</td>\n",
              "      <td>35.00</td>\n",
              "      <td>35.00</td>\n",
              "      <td>36.0</td>\n",
              "    </tr>\n",
              "  </tbody>\n",
              "</table>\n",
              "</div>"
            ],
            "text/plain": [
              "                count          mean          std  ...       50%       75%      max\n",
              "StockCode    284780.0   1573.386807   843.604991  ...   1521.00   2106.00   3683.0\n",
              "Description  284780.0   2023.955573  1089.812078  ...   1987.00   2945.00   3895.0\n",
              "Quantity     284780.0     12.028468   295.111588  ...      5.00     12.00  80995.0\n",
              "UnitPrice    284780.0      3.451216    78.399541  ...      1.95      3.75  38970.0\n",
              "CustomerID   284780.0  15288.224278  1714.336529  ...  15152.00  16794.00  18287.0\n",
              "Country      284780.0     32.823846     6.743602  ...     35.00     35.00     36.0\n",
              "\n",
              "[6 rows x 8 columns]"
            ]
          },
          "metadata": {
            "tags": []
          },
          "execution_count": 35
        }
      ]
    },
    {
      "cell_type": "code",
      "metadata": {
        "id": "e08bK7N_jom6",
        "outputId": "b61342f3-30f2-4fc7-9afd-8b2bb2aa2315",
        "colab": {
          "base_uri": "https://localhost:8080/",
          "height": 204
        }
      },
      "source": [
        "#Basic Stats\n",
        "df_test.describe().T"
      ],
      "execution_count": 36,
      "outputs": [
        {
          "output_type": "execute_result",
          "data": {
            "text/html": [
              "<div>\n",
              "<style scoped>\n",
              "    .dataframe tbody tr th:only-of-type {\n",
              "        vertical-align: middle;\n",
              "    }\n",
              "\n",
              "    .dataframe tbody tr th {\n",
              "        vertical-align: top;\n",
              "    }\n",
              "\n",
              "    .dataframe thead th {\n",
              "        text-align: right;\n",
              "    }\n",
              "</style>\n",
              "<table border=\"1\" class=\"dataframe\">\n",
              "  <thead>\n",
              "    <tr style=\"text-align: right;\">\n",
              "      <th></th>\n",
              "      <th>count</th>\n",
              "      <th>mean</th>\n",
              "      <th>std</th>\n",
              "      <th>min</th>\n",
              "      <th>25%</th>\n",
              "      <th>50%</th>\n",
              "      <th>75%</th>\n",
              "      <th>max</th>\n",
              "    </tr>\n",
              "  </thead>\n",
              "  <tbody>\n",
              "    <tr>\n",
              "      <th>StockCode</th>\n",
              "      <td>122049.0</td>\n",
              "      <td>1572.955788</td>\n",
              "      <td>845.106082</td>\n",
              "      <td>0.0</td>\n",
              "      <td>937.0</td>\n",
              "      <td>1523.0</td>\n",
              "      <td>2106.0</td>\n",
              "      <td>3683.0</td>\n",
              "    </tr>\n",
              "    <tr>\n",
              "      <th>Description</th>\n",
              "      <td>122049.0</td>\n",
              "      <td>2026.412744</td>\n",
              "      <td>1087.697388</td>\n",
              "      <td>0.0</td>\n",
              "      <td>1147.0</td>\n",
              "      <td>1987.0</td>\n",
              "      <td>2945.0</td>\n",
              "      <td>3895.0</td>\n",
              "    </tr>\n",
              "    <tr>\n",
              "      <th>Quantity</th>\n",
              "      <td>122049.0</td>\n",
              "      <td>12.137920</td>\n",
              "      <td>54.311646</td>\n",
              "      <td>-9360.0</td>\n",
              "      <td>2.0</td>\n",
              "      <td>5.0</td>\n",
              "      <td>12.0</td>\n",
              "      <td>4800.0</td>\n",
              "    </tr>\n",
              "    <tr>\n",
              "      <th>CustomerID</th>\n",
              "      <td>122049.0</td>\n",
              "      <td>15286.445256</td>\n",
              "      <td>1711.887591</td>\n",
              "      <td>12347.0</td>\n",
              "      <td>13953.0</td>\n",
              "      <td>15152.0</td>\n",
              "      <td>16782.0</td>\n",
              "      <td>18287.0</td>\n",
              "    </tr>\n",
              "    <tr>\n",
              "      <th>Country</th>\n",
              "      <td>122049.0</td>\n",
              "      <td>32.836795</td>\n",
              "      <td>6.726816</td>\n",
              "      <td>0.0</td>\n",
              "      <td>35.0</td>\n",
              "      <td>35.0</td>\n",
              "      <td>35.0</td>\n",
              "      <td>36.0</td>\n",
              "    </tr>\n",
              "  </tbody>\n",
              "</table>\n",
              "</div>"
            ],
            "text/plain": [
              "                count          mean          std  ...      50%      75%      max\n",
              "StockCode    122049.0   1572.955788   845.106082  ...   1523.0   2106.0   3683.0\n",
              "Description  122049.0   2026.412744  1087.697388  ...   1987.0   2945.0   3895.0\n",
              "Quantity     122049.0     12.137920    54.311646  ...      5.0     12.0   4800.0\n",
              "CustomerID   122049.0  15286.445256  1711.887591  ...  15152.0  16782.0  18287.0\n",
              "Country      122049.0     32.836795     6.726816  ...     35.0     35.0     36.0\n",
              "\n",
              "[5 rows x 8 columns]"
            ]
          },
          "metadata": {
            "tags": []
          },
          "execution_count": 36
        }
      ]
    },
    {
      "cell_type": "code",
      "metadata": {
        "id": "i-UEwmYOPRzg",
        "outputId": "b106e99c-28ea-48af-c436-180778bd63b1",
        "colab": {
          "base_uri": "https://localhost:8080/"
        }
      },
      "source": [
        "df_train.isnull().sum()"
      ],
      "execution_count": 37,
      "outputs": [
        {
          "output_type": "execute_result",
          "data": {
            "text/plain": [
              "StockCode      0\n",
              "Description    0\n",
              "Quantity       0\n",
              "UnitPrice      0\n",
              "CustomerID     0\n",
              "Country        0\n",
              "dtype: int64"
            ]
          },
          "metadata": {
            "tags": []
          },
          "execution_count": 37
        }
      ]
    },
    {
      "cell_type": "code",
      "metadata": {
        "id": "cX8Yd6A0jv36",
        "outputId": "0d68891a-f09a-46ba-ff26-4ec50c3ee72f",
        "colab": {
          "base_uri": "https://localhost:8080/"
        }
      },
      "source": [
        "df_test.isnull().sum()"
      ],
      "execution_count": 38,
      "outputs": [
        {
          "output_type": "execute_result",
          "data": {
            "text/plain": [
              "StockCode      0\n",
              "Description    0\n",
              "Quantity       0\n",
              "CustomerID     0\n",
              "Country        0\n",
              "dtype: int64"
            ]
          },
          "metadata": {
            "tags": []
          },
          "execution_count": 38
        }
      ]
    },
    {
      "cell_type": "code",
      "metadata": {
        "id": "2nshidrHfJR8",
        "outputId": "5a256383-2be8-44c6-8f30-3806bd9c8886",
        "colab": {
          "base_uri": "https://localhost:8080/",
          "height": 350
        }
      },
      "source": [
        "sns.boxplot('UnitPrice', data=df_train)"
      ],
      "execution_count": 39,
      "outputs": [
        {
          "output_type": "stream",
          "text": [
            "/usr/local/lib/python3.6/dist-packages/seaborn/_decorators.py:43: FutureWarning: Pass the following variable as a keyword arg: x. From version 0.12, the only valid positional argument will be `data`, and passing other arguments without an explicit keyword will result in an error or misinterpretation.\n",
            "  FutureWarning\n"
          ],
          "name": "stderr"
        },
        {
          "output_type": "execute_result",
          "data": {
            "text/plain": [
              "<matplotlib.axes._subplots.AxesSubplot at 0x7fdc5c040ac8>"
            ]
          },
          "metadata": {
            "tags": []
          },
          "execution_count": 39
        },
        {
          "output_type": "display_data",
          "data": {
            "image/png": "[encoded data removed]",
            "text/plain": [
              "<Figure size 432x288 with 1 Axes>"
            ]
          },
          "metadata": {
            "tags": [],
            "needs_background": "light"
          }
        }
      ]
    },
    {
      "cell_type": "code",
      "metadata": {
        "id": "CfBiMtBticUn",
        "outputId": "a823c3a3-bdbf-4b0a-8834-ed1f1c84bb16",
        "colab": {
          "base_uri": "https://localhost:8080/",
          "height": 297
        }
      },
      "source": [
        "df_train[df_train.UnitPrice > 8000].describe()"
      ],
      "execution_count": 40,
      "outputs": [
        {
          "output_type": "execute_result",
          "data": {
            "text/html": [
              "<div>\n",
              "<style scoped>\n",
              "    .dataframe tbody tr th:only-of-type {\n",
              "        vertical-align: middle;\n",
              "    }\n",
              "\n",
              "    .dataframe tbody tr th {\n",
              "        vertical-align: top;\n",
              "    }\n",
              "\n",
              "    .dataframe thead th {\n",
              "        text-align: right;\n",
              "    }\n",
              "</style>\n",
              "<table border=\"1\" class=\"dataframe\">\n",
              "  <thead>\n",
              "    <tr style=\"text-align: right;\">\n",
              "      <th></th>\n",
              "      <th>StockCode</th>\n",
              "      <th>Description</th>\n",
              "      <th>Quantity</th>\n",
              "      <th>UnitPrice</th>\n",
              "      <th>CustomerID</th>\n",
              "      <th>Country</th>\n",
              "    </tr>\n",
              "  </thead>\n",
              "  <tbody>\n",
              "    <tr>\n",
              "      <th>count</th>\n",
              "      <td>2.000000</td>\n",
              "      <td>2.000000</td>\n",
              "      <td>2.0</td>\n",
              "      <td>2.00000</td>\n",
              "      <td>2.000000</td>\n",
              "      <td>2.0</td>\n",
              "    </tr>\n",
              "    <tr>\n",
              "      <th>mean</th>\n",
              "      <td>3682.000000</td>\n",
              "      <td>2382.000000</td>\n",
              "      <td>-1.0</td>\n",
              "      <td>23556.37500</td>\n",
              "      <td>15563.500000</td>\n",
              "      <td>35.0</td>\n",
              "    </tr>\n",
              "    <tr>\n",
              "      <th>std</th>\n",
              "      <td>1.414214</td>\n",
              "      <td>342.239682</td>\n",
              "      <td>0.0</td>\n",
              "      <td>21798.15752</td>\n",
              "      <td>658.316413</td>\n",
              "      <td>0.0</td>\n",
              "    </tr>\n",
              "    <tr>\n",
              "      <th>min</th>\n",
              "      <td>3681.000000</td>\n",
              "      <td>2140.000000</td>\n",
              "      <td>-1.0</td>\n",
              "      <td>8142.75000</td>\n",
              "      <td>15098.000000</td>\n",
              "      <td>35.0</td>\n",
              "    </tr>\n",
              "    <tr>\n",
              "      <th>25%</th>\n",
              "      <td>3681.500000</td>\n",
              "      <td>2261.000000</td>\n",
              "      <td>-1.0</td>\n",
              "      <td>15849.56250</td>\n",
              "      <td>15330.750000</td>\n",
              "      <td>35.0</td>\n",
              "    </tr>\n",
              "    <tr>\n",
              "      <th>50%</th>\n",
              "      <td>3682.000000</td>\n",
              "      <td>2382.000000</td>\n",
              "      <td>-1.0</td>\n",
              "      <td>23556.37500</td>\n",
              "      <td>15563.500000</td>\n",
              "      <td>35.0</td>\n",
              "    </tr>\n",
              "    <tr>\n",
              "      <th>75%</th>\n",
              "      <td>3682.500000</td>\n",
              "      <td>2503.000000</td>\n",
              "      <td>-1.0</td>\n",
              "      <td>31263.18750</td>\n",
              "      <td>15796.250000</td>\n",
              "      <td>35.0</td>\n",
              "    </tr>\n",
              "    <tr>\n",
              "      <th>max</th>\n",
              "      <td>3683.000000</td>\n",
              "      <td>2624.000000</td>\n",
              "      <td>-1.0</td>\n",
              "      <td>38970.00000</td>\n",
              "      <td>16029.000000</td>\n",
              "      <td>35.0</td>\n",
              "    </tr>\n",
              "  </tbody>\n",
              "</table>\n",
              "</div>"
            ],
            "text/plain": [
              "         StockCode  Description  Quantity    UnitPrice    CustomerID  Country\n",
              "count     2.000000     2.000000       2.0      2.00000      2.000000      2.0\n",
              "mean   3682.000000  2382.000000      -1.0  23556.37500  15563.500000     35.0\n",
              "std       1.414214   342.239682       0.0  21798.15752    658.316413      0.0\n",
              "min    3681.000000  2140.000000      -1.0   8142.75000  15098.000000     35.0\n",
              "25%    3681.500000  2261.000000      -1.0  15849.56250  15330.750000     35.0\n",
              "50%    3682.000000  2382.000000      -1.0  23556.37500  15563.500000     35.0\n",
              "75%    3682.500000  2503.000000      -1.0  31263.18750  15796.250000     35.0\n",
              "max    3683.000000  2624.000000      -1.0  38970.00000  16029.000000     35.0"
            ]
          },
          "metadata": {
            "tags": []
          },
          "execution_count": 40
        }
      ]
    },
    {
      "cell_type": "code",
      "metadata": {
        "id": "IbpAjO99mZ6U",
        "outputId": "eba469c9-056c-45bd-f537-bef5cdfe7ffb",
        "colab": {
          "base_uri": "https://localhost:8080/"
        }
      },
      "source": [
        "df_train[df_train.UnitPrice > 2000].count()"
      ],
      "execution_count": 41,
      "outputs": [
        {
          "output_type": "execute_result",
          "data": {
            "text/plain": [
              "StockCode      12\n",
              "Description    12\n",
              "Quantity       12\n",
              "UnitPrice      12\n",
              "CustomerID     12\n",
              "Country        12\n",
              "dtype: int64"
            ]
          },
          "metadata": {
            "tags": []
          },
          "execution_count": 41
        }
      ]
    },
    {
      "cell_type": "code",
      "metadata": {
        "id": "fo70zg4ygOUg"
      },
      "source": [
        "df_train.drop(df_train[df_train.UnitPrice > 2000].index, inplace= True)"
      ],
      "execution_count": 42,
      "outputs": []
    },
    {
      "cell_type": "code",
      "metadata": {
        "id": "arrl-Y7Gg-_t",
        "outputId": "e85c7dfe-b3e1-40b4-b7c8-9cb9dcc6565c",
        "colab": {
          "base_uri": "https://localhost:8080/",
          "height": 350
        }
      },
      "source": [
        "sns.boxplot('UnitPrice', data=df_train)"
      ],
      "execution_count": 43,
      "outputs": [
        {
          "output_type": "stream",
          "text": [
            "/usr/local/lib/python3.6/dist-packages/seaborn/_decorators.py:43: FutureWarning: Pass the following variable as a keyword arg: x. From version 0.12, the only valid positional argument will be `data`, and passing other arguments without an explicit keyword will result in an error or misinterpretation.\n",
            "  FutureWarning\n"
          ],
          "name": "stderr"
        },
        {
          "output_type": "execute_result",
          "data": {
            "text/plain": [
              "<matplotlib.axes._subplots.AxesSubplot at 0x7fdc5c215c88>"
            ]
          },
          "metadata": {
            "tags": []
          },
          "execution_count": 43
        },
        {
          "output_type": "display_data",
          "data": {
            "image/png": "[encoded data removed]",
            "text/plain": [
              "<Figure size 432x288 with 1 Axes>"
            ]
          },
          "metadata": {
            "tags": [],
            "needs_background": "light"
          }
        }
      ]
    },
    {
      "cell_type": "code",
      "metadata": {
        "id": "LdEf2KfJfuUS",
        "outputId": "436e5fbb-d9ca-4009-e9a2-1665582f3aa9",
        "colab": {
          "base_uri": "https://localhost:8080/"
        }
      },
      "source": [
        "df_train.info()"
      ],
      "execution_count": 44,
      "outputs": [
        {
          "output_type": "stream",
          "text": [
            "<class 'pandas.core.frame.DataFrame'>\n",
            "Int64Index: 284768 entries, 0 to 284779\n",
            "Data columns (total 6 columns):\n",
            " #   Column       Non-Null Count   Dtype  \n",
            "---  ------       --------------   -----  \n",
            " 0   StockCode    284768 non-null  int64  \n",
            " 1   Description  284768 non-null  int64  \n",
            " 2   Quantity     284768 non-null  int64  \n",
            " 3   UnitPrice    284768 non-null  float64\n",
            " 4   CustomerID   284768 non-null  float64\n",
            " 5   Country      284768 non-null  int64  \n",
            "dtypes: float64(2), int64(4)\n",
            "memory usage: 15.2 MB\n"
          ],
          "name": "stdout"
        }
      ]
    },
    {
      "cell_type": "code",
      "metadata": {
        "id": "1u3iWt8Uo-RN"
      },
      "source": [
        "features = ['StockCode','Description','CustomerID','Quantity']\n",
        "#X = df_train[features]\n",
        "#X = X.dropna()\n",
        "#X"
      ],
      "execution_count": 45,
      "outputs": []
    },
    {
      "cell_type": "code",
      "metadata": {
        "id": "qtTrAX_6o4yI"
      },
      "source": [
        "#y = df_train[\"UnitPrice\"]"
      ],
      "execution_count": 46,
      "outputs": []
    },
    {
      "cell_type": "code",
      "metadata": {
        "id": "w0aNDy-FoZPk",
        "outputId": "377c9361-add2-4670-a6bd-076a98de2d37",
        "colab": {
          "base_uri": "https://localhost:8080/"
        }
      },
      "source": [
        "## split data\n",
        "dtf_train, dtf_test = model_selection.train_test_split(df_train, \n",
        "                      test_size=0.1)\n",
        "## print info\n",
        "print(\"X_train shape:\", dtf_train.drop(\"UnitPrice\",axis=1).shape, \"| X_test shape:\", dtf_test.drop(\"UnitPrice\",axis=1).shape)\n",
        "print(\"y_train mean:\", round(np.mean(dtf_train[\"UnitPrice\"]),2), \"| y_test mean:\", round(np.mean(dtf_test[\"UnitPrice\"]),2))\n",
        "print(dtf_train.shape[1], \"features:\", dtf_train.drop(\"UnitPrice\",axis=1).columns.to_list())"
      ],
      "execution_count": 47,
      "outputs": [
        {
          "output_type": "stream",
          "text": [
            "X_train shape: (256291, 5) | X_test shape: (28477, 5)\n",
            "y_train mean: 3.19 | y_test mean: 3.06\n",
            "6 features: ['StockCode', 'Description', 'Quantity', 'CustomerID', 'Country']\n"
          ],
          "name": "stdout"
        }
      ]
    },
    {
      "cell_type": "code",
      "metadata": {
        "id": "48z0ns9ff4Qu",
        "outputId": "158a8593-471b-4979-e7d9-0ea75760b0dc",
        "colab": {
          "base_uri": "https://localhost:8080/",
          "height": 204
        }
      },
      "source": [
        "## scale X\n",
        "scalerX = preprocessing.RobustScaler(quantile_range=(25.0, 75.0))\n",
        "X = scalerX.fit_transform(dtf_train.drop(\"UnitPrice\", axis=1))\n",
        "dtf_scaled= pd.DataFrame(X, columns=dtf_train.drop(\"UnitPrice\", \n",
        "                        axis=1).columns, index=dtf_train.index)\n",
        "## scale Y\n",
        "scalerY = preprocessing.RobustScaler(quantile_range=(25.0, 75.0))\n",
        "dtf_scaled['UnitPrice'] = scalerY.fit_transform(\n",
        "                    dtf_train['UnitPrice'].values.reshape(-1,1))\n",
        "dtf_scaled.head()"
      ],
      "execution_count": 48,
      "outputs": [
        {
          "output_type": "execute_result",
          "data": {
            "text/html": [
              "<div>\n",
              "<style scoped>\n",
              "    .dataframe tbody tr th:only-of-type {\n",
              "        vertical-align: middle;\n",
              "    }\n",
              "\n",
              "    .dataframe tbody tr th {\n",
              "        vertical-align: top;\n",
              "    }\n",
              "\n",
              "    .dataframe thead th {\n",
              "        text-align: right;\n",
              "    }\n",
              "</style>\n",
              "<table border=\"1\" class=\"dataframe\">\n",
              "  <thead>\n",
              "    <tr style=\"text-align: right;\">\n",
              "      <th></th>\n",
              "      <th>StockCode</th>\n",
              "      <th>Description</th>\n",
              "      <th>Quantity</th>\n",
              "      <th>CustomerID</th>\n",
              "      <th>Country</th>\n",
              "      <th>UnitPrice</th>\n",
              "    </tr>\n",
              "  </thead>\n",
              "  <tbody>\n",
              "    <tr>\n",
              "      <th>86217</th>\n",
              "      <td>-0.207904</td>\n",
              "      <td>-0.113636</td>\n",
              "      <td>9.5</td>\n",
              "      <td>-0.614517</td>\n",
              "      <td>0.0</td>\n",
              "      <td>-0.064</td>\n",
              "    </tr>\n",
              "    <tr>\n",
              "      <th>132900</th>\n",
              "      <td>0.946735</td>\n",
              "      <td>-0.528825</td>\n",
              "      <td>-0.3</td>\n",
              "      <td>-0.405215</td>\n",
              "      <td>0.0</td>\n",
              "      <td>2.400</td>\n",
              "    </tr>\n",
              "    <tr>\n",
              "      <th>116806</th>\n",
              "      <td>1.568729</td>\n",
              "      <td>-0.669069</td>\n",
              "      <td>1.9</td>\n",
              "      <td>0.121917</td>\n",
              "      <td>0.0</td>\n",
              "      <td>-0.440</td>\n",
              "    </tr>\n",
              "    <tr>\n",
              "      <th>74976</th>\n",
              "      <td>-0.373711</td>\n",
              "      <td>-0.868625</td>\n",
              "      <td>-0.1</td>\n",
              "      <td>-0.959831</td>\n",
              "      <td>-23.0</td>\n",
              "      <td>2.620</td>\n",
              "    </tr>\n",
              "    <tr>\n",
              "      <th>171301</th>\n",
              "      <td>0.344502</td>\n",
              "      <td>0.378049</td>\n",
              "      <td>-0.4</td>\n",
              "      <td>0.744891</td>\n",
              "      <td>0.0</td>\n",
              "      <td>0.052</td>\n",
              "    </tr>\n",
              "  </tbody>\n",
              "</table>\n",
              "</div>"
            ],
            "text/plain": [
              "        StockCode  Description  Quantity  CustomerID  Country  UnitPrice\n",
              "86217   -0.207904    -0.113636       9.5   -0.614517      0.0     -0.064\n",
              "132900   0.946735    -0.528825      -0.3   -0.405215      0.0      2.400\n",
              "116806   1.568729    -0.669069       1.9    0.121917      0.0     -0.440\n",
              "74976   -0.373711    -0.868625      -0.1   -0.959831    -23.0      2.620\n",
              "171301   0.344502     0.378049      -0.4    0.744891      0.0      0.052"
            ]
          },
          "metadata": {
            "tags": []
          },
          "execution_count": 48
        }
      ]
    },
    {
      "cell_type": "code",
      "metadata": {
        "id": "XJsVHFmsf99j",
        "outputId": "05b3e4b6-405d-427e-abe8-6868d7983fd0",
        "colab": {
          "base_uri": "https://localhost:8080/",
          "height": 347
        }
      },
      "source": [
        "corr_matrix = dtf_train.corr(method=\"pearson\")\n",
        "sns.heatmap(corr_matrix, vmin=-1., vmax=1., annot=True, fmt='.2f', cmap=\"YlGnBu\", cbar=True, linewidths=0.5)\n",
        "plt.title(\"pearson correlation\")"
      ],
      "execution_count": 49,
      "outputs": [
        {
          "output_type": "execute_result",
          "data": {
            "text/plain": [
              "Text(0.5, 1.0, 'pearson correlation')"
            ]
          },
          "metadata": {
            "tags": []
          },
          "execution_count": 49
        },
        {
          "output_type": "display_data",
          "data": {
            "image/png": "[encoded data removed]",
            "text/plain": [
              "<Figure size 432x288 with 2 Axes>"
            ]
          },
          "metadata": {
            "tags": [],
            "needs_background": "light"
          }
        }
      ]
    },
    {
      "cell_type": "code",
      "metadata": {
        "id": "GO-scfI5hSGX",
        "outputId": "fe194e6b-b849-41b3-da77-d3cff0056120",
        "colab": {
          "base_uri": "https://localhost:8080/",
          "height": 296
        }
      },
      "source": [
        "X = dtf_train.drop(\"UnitPrice\", axis=1).values\n",
        "y = dtf_train[\"UnitPrice\"].values\n",
        "feature_names = dtf_train.drop(\"UnitPrice\", axis=1).columns\n",
        "## p-value\n",
        "selector = feature_selection.SelectKBest(score_func=  \n",
        "               feature_selection.f_regression, k=5).fit(X,y)\n",
        "pvalue_selected_features = feature_names[selector.get_support()]\n",
        "\n",
        "## regularization\n",
        "selector = feature_selection.SelectFromModel(estimator= \n",
        "              linear_model.Ridge(alpha=1.0, fit_intercept=True), \n",
        "                                 max_features=5).fit(X,y)\n",
        "regularization_selected_features = feature_names[selector.get_support()]\n",
        " \n",
        "## plot\n",
        "dtf_features = pd.DataFrame({\"features\":feature_names})\n",
        "dtf_features[\"p_value\"] = dtf_features[\"features\"].apply(lambda x: \"p_value\" if x in pvalue_selected_features else \"\")\n",
        "dtf_features[\"num1\"] = dtf_features[\"features\"].apply(lambda x: 1 if x in pvalue_selected_features else 0)\n",
        "dtf_features[\"regularization\"] = dtf_features[\"features\"].apply(lambda x: \"regularization\" if x in regularization_selected_features else \"\")\n",
        "dtf_features[\"num2\"] = dtf_features[\"features\"].apply(lambda x: 1 if x in regularization_selected_features else 0)\n",
        "dtf_features[\"method\"] = dtf_features[[\"p_value\",\"regularization\"]].apply(lambda x: (x[0]+\" \"+x[1]).strip(), axis=1)\n",
        "dtf_features[\"selection\"] = dtf_features[\"num1\"] + dtf_features[\"num2\"]\n",
        "dtf_features[\"method\"] = dtf_features[\"method\"].apply(lambda x: \"both\" if len(x.split()) == 2 else x)\n",
        "sns.barplot(y=\"features\", x=\"selection\", hue=\"method\", data=dtf_features.sort_values(\"selection\", ascending=False), dodge=False)"
      ],
      "execution_count": 50,
      "outputs": [
        {
          "output_type": "execute_result",
          "data": {
            "text/plain": [
              "<matplotlib.axes._subplots.AxesSubplot at 0x7fdc5b7994e0>"
            ]
          },
          "metadata": {
            "tags": []
          },
          "execution_count": 50
        },
        {
          "output_type": "display_data",
          "data": {
            "image/png": "[encoded data removed]",
            "text/plain": [
              "<Figure size 432x288 with 1 Axes>"
            ]
          },
          "metadata": {
            "tags": [],
            "needs_background": "light"
          }
        }
      ]
    },
    {
      "cell_type": "code",
      "metadata": {
        "id": "57ZPxMNfhibc",
        "outputId": "20333ea2-59e5-4035-f95d-702734480763",
        "colab": {
          "base_uri": "https://localhost:8080/",
          "height": 343
        }
      },
      "source": [
        "X = dtf_train.drop(\"UnitPrice\", axis=1).values\n",
        "y = dtf_train[\"UnitPrice\"].values\n",
        "feature_names = dtf_train.drop(\"UnitPrice\", axis=1).columns.tolist()\n",
        "## call model\n",
        "model = ensemble.GradientBoostingRegressor()\n",
        "## Importance\n",
        "model.fit(X,y)\n",
        "importances = model.feature_importances_\n",
        "## Put in a pandas dtf\n",
        "dtf_importances = pd.DataFrame({\"IMPORTANCE\":importances, \n",
        "            \"VARIABLE\":feature_names}).sort_values(\"IMPORTANCE\", \n",
        "            ascending=False)\n",
        "dtf_importances['cumsum'] =  dtf_importances['IMPORTANCE'].cumsum(axis=0)\n",
        "dtf_importances = dtf_importances.set_index(\"VARIABLE\")\n",
        "    \n",
        "## Plot\n",
        "fig, ax = plt.subplots(nrows=1, ncols=2, sharex=False, sharey=False)\n",
        "fig.suptitle(\"Features Importance\", fontsize=20)\n",
        "ax[0].title.set_text('variables')\n",
        "dtf_importances[[\"IMPORTANCE\"]].sort_values(by=\"IMPORTANCE\").plot(kind=\"barh\", legend=False, ax=ax[0]).grid(axis=\"x\")\n",
        "ax[0].set(ylabel=\"\")\n",
        "ax[1].title.set_text('cumulative')\n",
        "dtf_importances[[\"cumsum\"]].plot(kind=\"line\", linewidth=4, \n",
        "                                 legend=False, ax=ax[1])\n",
        "ax[1].set(xlabel=\"\", xticks=np.arange(len(dtf_importances)), \n",
        "          xticklabels=dtf_importances.index)\n",
        "plt.xticks(rotation=70)\n",
        "plt.grid(axis='both')\n",
        "plt.show()"
      ],
      "execution_count": 51,
      "outputs": [
        {
          "output_type": "display_data",
          "data": {
            "image/png": "[encoded data removed]",
            "text/plain": [
              "<Figure size 432x288 with 2 Axes>"
            ]
          },
          "metadata": {
            "tags": [],
            "needs_background": "light"
          }
        }
      ]
    },
    {
      "cell_type": "code",
      "metadata": {
        "id": "g343tp37icWl"
      },
      "source": [
        "X_train = dtf_train.values\n",
        "y_train = dtf_train[\"UnitPrice\"].values\n",
        "X_test = dtf_test.values\n",
        "y_test = dtf_test[\"UnitPrice\"].values"
      ],
      "execution_count": 52,
      "outputs": []
    },
    {
      "cell_type": "code",
      "metadata": {
        "id": "2_76YT63k0RV"
      },
      "source": [
        "from sklearn import svm\n",
        "from sklearn import tree\n",
        "from sklearn.neural_network import MLPClassifier\n",
        "from sklearn.ensemble import RandomForestRegressor\n",
        "'''model = RandomForestRegressor(bootstrap=True, ccp_alpha=0, criterion='mse',\n",
        "                      max_depth=None, max_features='auto', max_leaf_nodes=None,\n",
        "                      max_samples=None, min_impurity_decrease=0.0,\n",
        "                      min_impurity_split=None, min_samples_leaf=1,\n",
        "                      min_samples_split=2, min_weight_fraction_leaf=0.0,\n",
        "                      n_estimators=100, n_jobs=None, oob_score=False,\n",
        "                      random_state=None, verbose=0, warm_start=False)'''\n",
        "#model = svm.SVR()\n",
        "model = tree.DecisionTreeRegressor()\n",
        "#model = MLPClassifier(solver='lbfgs', alpha=1e-5,hidden_layer_sizes=(5, 2), random_state=1)"
      ],
      "execution_count": 53,
      "outputs": []
    },
    {
      "cell_type": "code",
      "metadata": {
        "id": "Ao7HIICXjCaI",
        "outputId": "38396276-b974-480b-dd9e-11dff55555f0",
        "colab": {
          "base_uri": "https://localhost:8080/",
          "height": 295
        }
      },
      "source": [
        "## call model\n",
        "#model = linear_model.LinearRegression()\n",
        "## K fold validation\n",
        "scores = []\n",
        "cv = model_selection.KFold(n_splits=5, shuffle=True)\n",
        "fig = plt.figure()\n",
        "i = 1\n",
        "for train, test in cv.split(X_train, y_train):\n",
        "    prediction = model.fit(X_train[train],\n",
        "                 y_train[train]).predict(X_train[test])\n",
        "    true = y_train[test]\n",
        "    score = metrics.r2_score(true, prediction)\n",
        "    scores.append(score)\n",
        "    plt.scatter(prediction, true, lw=2, alpha=0.3, \n",
        "                label='Fold %d (R2 = %0.2f)' % (i,score))\n",
        "    i = i+1\n",
        "plt.plot([min(y_train),max(y_train)], [min(y_train),max(y_train)], \n",
        "         linestyle='--', lw=2, color='black')\n",
        "plt.xlabel('Predicted')\n",
        "plt.ylabel('True')\n",
        "plt.title('K-Fold Validation')\n",
        "plt.legend()\n",
        "plt.show()"
      ],
      "execution_count": 54,
      "outputs": [
        {
          "output_type": "display_data",
          "data": {
            "image/png": "[encoded data removed]",
            "text/plain": [
              "<Figure size 432x288 with 1 Axes>"
            ]
          },
          "metadata": {
            "tags": [],
            "needs_background": "light"
          }
        }
      ]
    },
    {
      "cell_type": "code",
      "metadata": {
        "id": "2qNLPnEEjIq1"
      },
      "source": [
        "## train\n",
        "model.fit(X_train, y_train)\n",
        "## test\n",
        "predicted = model.predict(X_test)"
      ],
      "execution_count": 55,
      "outputs": []
    },
    {
      "cell_type": "code",
      "metadata": {
        "id": "ONFDuQdDjR4v"
      },
      "source": [
        "predicted = scalerY.inverse_transform( \n",
        "                  predicted.reshape(-1,1) ).reshape(-1)"
      ],
      "execution_count": 56,
      "outputs": []
    },
    {
      "cell_type": "code",
      "metadata": {
        "id": "8NzzUQT2jVLT",
        "outputId": "e28b2a26-2649-44e7-8a1b-41b9ae2ffcce",
        "colab": {
          "base_uri": "https://localhost:8080/"
        }
      },
      "source": [
        "## Kpi\n",
        "print(\"R2 (explained variance):\", round(metrics.r2_score(y_test, predicted), 2))\n",
        "print(\"Mean Absolute Perc Error (Σ(|y-pred|/y)/n):\", round(np.mean(np.abs((y_test-predicted)/predicted)), 2))\n",
        "print(\"Mean Absolute Error (Σ|y-pred|/n):\", \"{:,.0f}\".format(metrics.mean_absolute_error(y_test, predicted)))\n",
        "print(\"Root Mean Squared Error (sqrt(Σ(y-pred)^2/n)):\", \"{:,.2f}\".format(np.sqrt(metrics.mean_squared_error(y_test, predicted))))\n",
        "## residuals\n",
        "residuals = y_test - predicted\n",
        "max_error = max(residuals) if abs(max(residuals)) > abs(min(residuals)) else min(residuals)\n",
        "max_idx = list(residuals).index(max(residuals)) if abs(max(residuals)) > abs(min(residuals)) else list(residuals).index(min(residuals))\n",
        "max_true, max_pred = y_test[max_idx], predicted[max_idx]\n",
        "print(\"Max Error:\", \"{:,.0f}\".format(max_error))"
      ],
      "execution_count": 57,
      "outputs": [
        {
          "output_type": "stream",
          "text": [
            "R2 (explained variance): -1.65\n",
            "Mean Absolute Perc Error (Σ(|y-pred|/y)/n): 0.73\n",
            "Mean Absolute Error (Σ|y-pred|/n): 7\n",
            "Root Mean Squared Error (sqrt(Σ(y-pred)^2/n)): 16.76\n",
            "Max Error: -1,865\n"
          ],
          "name": "stdout"
        }
      ]
    },
    {
      "cell_type": "code",
      "metadata": {
        "id": "Z6lJxqiKjogq",
        "outputId": "18135c8f-62a4-4682-9d93-3ccd3b45c2a5",
        "colab": {
          "base_uri": "https://localhost:8080/",
          "height": 295
        }
      },
      "source": [
        "## Plot predicted vs true\n",
        "fig, ax = plt.subplots(nrows=1, ncols=2)\n",
        "from statsmodels.graphics.api import abline_plot\n",
        "ax[0].scatter(predicted, y_test, color=\"black\")\n",
        "abline_plot(intercept=0, slope=1, color=\"red\", ax=ax[0])\n",
        "ax[0].vlines(x=max_pred, ymin=max_true, ymax=max_true-max_error, color='red', linestyle='--', alpha=0.7, label=\"max error\")\n",
        "ax[0].grid(True)\n",
        "ax[0].set(xlabel=\"Predicted\", ylabel=\"True\", title=\"Predicted vs True\")\n",
        "ax[0].legend()\n",
        "    \n",
        "## Plot predicted vs residuals\n",
        "ax[1].scatter(predicted, residuals, color=\"red\")\n",
        "ax[1].vlines(x=max_pred, ymin=0, ymax=max_error, color='black', linestyle='--', alpha=0.7, label=\"max error\")\n",
        "ax[1].grid(True)\n",
        "ax[1].set(xlabel=\"Predicted\", ylabel=\"Residuals\", title=\"Predicted vs Residuals\")\n",
        "ax[1].hlines(y=0, xmin=np.min(predicted), xmax=np.max(predicted))\n",
        "ax[1].legend()\n",
        "plt.show()"
      ],
      "execution_count": 58,
      "outputs": [
        {
          "output_type": "display_data",
          "data": {
            "image/png": "[encoded data removed]",
            "text/plain": [
              "<Figure size 432x288 with 2 Axes>"
            ]
          },
          "metadata": {
            "tags": [],
            "needs_background": "light"
          }
        }
      ]
    },
    {
      "cell_type": "code",
      "metadata": {
        "id": "FmfrwcC0kHID",
        "outputId": "b01efb9a-0821-42a2-e3e9-360831650004",
        "colab": {
          "base_uri": "https://localhost:8080/"
        }
      },
      "source": [
        "from sklearn import metrics\n",
        "print('RMSE:', np.sqrt(metrics.mean_squared_error(y_test, predicted)))"
      ],
      "execution_count": 60,
      "outputs": [
        {
          "output_type": "stream",
          "text": [
            "RMSE: 16.76362742083347\n"
          ],
          "name": "stdout"
        }
      ]
    },
    {
      "cell_type": "code",
      "metadata": {
        "id": "JqQTqMfrQ7pW"
      },
      "source": [
        ""
      ],
      "execution_count": null,
      "outputs": []
    }
  ]
}